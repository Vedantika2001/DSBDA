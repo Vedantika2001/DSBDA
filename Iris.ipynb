{
 "cells": [
  {
   "cell_type": "code",
   "execution_count": 1,
   "id": "55238cb2-4020-4128-8a71-57722fc48b08",
   "metadata": {},
   "outputs": [],
   "source": [
    "import pandas as pd\n",
    "import numpy as np\n",
    "import matplotlib.pyplot as plt\n",
    "%matplotlib inline\n",
    "import seaborn as sns\n",
    "from sklearn import preprocessing"
   ]
  },
  {
   "cell_type": "code",
   "execution_count": 2,
   "id": "f6eb4fe5-3d83-4977-ae30-dbf1680bb30c",
   "metadata": {},
   "outputs": [],
   "source": [
    "iris = pd.read_csv(\"Iris.csv\")"
   ]
  },
  {
   "cell_type": "code",
   "execution_count": 3,
   "id": "16f32371-8c4e-444e-bc1c-3c71873c1863",
   "metadata": {},
   "outputs": [
    {
     "data": {
      "text/html": [
       "<div>\n",
       "<style scoped>\n",
       "    .dataframe tbody tr th:only-of-type {\n",
       "        vertical-align: middle;\n",
       "    }\n",
       "\n",
       "    .dataframe tbody tr th {\n",
       "        vertical-align: top;\n",
       "    }\n",
       "\n",
       "    .dataframe thead th {\n",
       "        text-align: right;\n",
       "    }\n",
       "</style>\n",
       "<table border=\"1\" class=\"dataframe\">\n",
       "  <thead>\n",
       "    <tr style=\"text-align: right;\">\n",
       "      <th></th>\n",
       "      <th>Id</th>\n",
       "      <th>SepalLengthCm</th>\n",
       "      <th>SepalWidthCm</th>\n",
       "      <th>PetalLengthCm</th>\n",
       "      <th>PetalWidthCm</th>\n",
       "      <th>Species</th>\n",
       "    </tr>\n",
       "  </thead>\n",
       "  <tbody>\n",
       "    <tr>\n",
       "      <th>0</th>\n",
       "      <td>1</td>\n",
       "      <td>5.1</td>\n",
       "      <td>3.5</td>\n",
       "      <td>1.4</td>\n",
       "      <td>0.2</td>\n",
       "      <td>Iris-setosa</td>\n",
       "    </tr>\n",
       "    <tr>\n",
       "      <th>1</th>\n",
       "      <td>2</td>\n",
       "      <td>4.9</td>\n",
       "      <td>3.0</td>\n",
       "      <td>1.4</td>\n",
       "      <td>0.2</td>\n",
       "      <td>Iris-setosa</td>\n",
       "    </tr>\n",
       "    <tr>\n",
       "      <th>2</th>\n",
       "      <td>3</td>\n",
       "      <td>4.7</td>\n",
       "      <td>3.2</td>\n",
       "      <td>1.3</td>\n",
       "      <td>0.2</td>\n",
       "      <td>Iris-setosa</td>\n",
       "    </tr>\n",
       "    <tr>\n",
       "      <th>3</th>\n",
       "      <td>4</td>\n",
       "      <td>4.6</td>\n",
       "      <td>3.1</td>\n",
       "      <td>1.5</td>\n",
       "      <td>0.2</td>\n",
       "      <td>Iris-setosa</td>\n",
       "    </tr>\n",
       "    <tr>\n",
       "      <th>4</th>\n",
       "      <td>5</td>\n",
       "      <td>5.0</td>\n",
       "      <td>3.6</td>\n",
       "      <td>1.4</td>\n",
       "      <td>0.2</td>\n",
       "      <td>Iris-setosa</td>\n",
       "    </tr>\n",
       "    <tr>\n",
       "      <th>...</th>\n",
       "      <td>...</td>\n",
       "      <td>...</td>\n",
       "      <td>...</td>\n",
       "      <td>...</td>\n",
       "      <td>...</td>\n",
       "      <td>...</td>\n",
       "    </tr>\n",
       "    <tr>\n",
       "      <th>145</th>\n",
       "      <td>146</td>\n",
       "      <td>6.7</td>\n",
       "      <td>3.0</td>\n",
       "      <td>5.2</td>\n",
       "      <td>2.3</td>\n",
       "      <td>Iris-virginica</td>\n",
       "    </tr>\n",
       "    <tr>\n",
       "      <th>146</th>\n",
       "      <td>147</td>\n",
       "      <td>6.3</td>\n",
       "      <td>2.5</td>\n",
       "      <td>5.0</td>\n",
       "      <td>1.9</td>\n",
       "      <td>Iris-virginica</td>\n",
       "    </tr>\n",
       "    <tr>\n",
       "      <th>147</th>\n",
       "      <td>148</td>\n",
       "      <td>6.5</td>\n",
       "      <td>3.0</td>\n",
       "      <td>5.2</td>\n",
       "      <td>2.0</td>\n",
       "      <td>Iris-virginica</td>\n",
       "    </tr>\n",
       "    <tr>\n",
       "      <th>148</th>\n",
       "      <td>149</td>\n",
       "      <td>6.2</td>\n",
       "      <td>3.4</td>\n",
       "      <td>5.4</td>\n",
       "      <td>2.3</td>\n",
       "      <td>Iris-virginica</td>\n",
       "    </tr>\n",
       "    <tr>\n",
       "      <th>149</th>\n",
       "      <td>150</td>\n",
       "      <td>5.9</td>\n",
       "      <td>3.0</td>\n",
       "      <td>5.1</td>\n",
       "      <td>1.8</td>\n",
       "      <td>Iris-virginica</td>\n",
       "    </tr>\n",
       "  </tbody>\n",
       "</table>\n",
       "<p>150 rows × 6 columns</p>\n",
       "</div>"
      ],
      "text/plain": [
       "      Id  SepalLengthCm  SepalWidthCm  PetalLengthCm  PetalWidthCm  \\\n",
       "0      1            5.1           3.5            1.4           0.2   \n",
       "1      2            4.9           3.0            1.4           0.2   \n",
       "2      3            4.7           3.2            1.3           0.2   \n",
       "3      4            4.6           3.1            1.5           0.2   \n",
       "4      5            5.0           3.6            1.4           0.2   \n",
       "..   ...            ...           ...            ...           ...   \n",
       "145  146            6.7           3.0            5.2           2.3   \n",
       "146  147            6.3           2.5            5.0           1.9   \n",
       "147  148            6.5           3.0            5.2           2.0   \n",
       "148  149            6.2           3.4            5.4           2.3   \n",
       "149  150            5.9           3.0            5.1           1.8   \n",
       "\n",
       "            Species  \n",
       "0       Iris-setosa  \n",
       "1       Iris-setosa  \n",
       "2       Iris-setosa  \n",
       "3       Iris-setosa  \n",
       "4       Iris-setosa  \n",
       "..              ...  \n",
       "145  Iris-virginica  \n",
       "146  Iris-virginica  \n",
       "147  Iris-virginica  \n",
       "148  Iris-virginica  \n",
       "149  Iris-virginica  \n",
       "\n",
       "[150 rows x 6 columns]"
      ]
     },
     "execution_count": 3,
     "metadata": {},
     "output_type": "execute_result"
    }
   ],
   "source": [
    "iris"
   ]
  },
  {
   "cell_type": "code",
   "execution_count": null,
   "id": "92ca742e-4b22-48c4-ad4f-583b1c985c87",
   "metadata": {},
   "outputs": [],
   "source": [
    "iris.describe()"
   ]
  },
  {
   "cell_type": "code",
   "execution_count": null,
   "id": "1cf5f268-9ece-446f-a392-ac13e3060310",
   "metadata": {},
   "outputs": [],
   "source": [
    "iris.head(10)"
   ]
  },
  {
   "cell_type": "code",
   "execution_count": null,
   "id": "a0b0867b-1aeb-4fbd-8be6-9788dfe526fa",
   "metadata": {},
   "outputs": [],
   "source": [
    "iris.tail(10)"
   ]
  },
  {
   "cell_type": "code",
   "execution_count": null,
   "id": "a504162f-9ef5-46e9-a6f8-fce3a0877c4c",
   "metadata": {},
   "outputs": [],
   "source": [
    "iris.columns"
   ]
  },
  {
   "cell_type": "code",
   "execution_count": null,
   "id": "ec5392b6-1512-445f-a621-4c13ab24eb15",
   "metadata": {},
   "outputs": [],
   "source": [
    "iris.info"
   ]
  },
  {
   "cell_type": "code",
   "execution_count": null,
   "id": "b7a81946-b403-4428-9be4-54b0f08ad522",
   "metadata": {},
   "outputs": [],
   "source": [
    "ax = iris[iris.Species=='Iris-setosa'].plot.scatter(x='SepalLengthCm', y='SepalWidthCm', \n",
    "                                                    color='red', label='setosa')\n",
    "iris[iris.Species=='Iris-versicolor'].plot.scatter(x='SepalLengthCm', y='SepalWidthCm', \n",
    "                                                color='green', label='versicolor', ax=ax)\n",
    "iris[iris.Species=='Iris-virginica'].plot.scatter(x='SepalLengthCm', y='SepalWidthCm', \n",
    "                                                color='blue', label='virginica', ax=ax)\n",
    "ax.set_title(\"scatter\")"
   ]
  },
  {
   "cell_type": "code",
   "execution_count": null,
   "id": "effcbbf8-84a6-413d-9d9e-81c2d0335caf",
   "metadata": {},
   "outputs": [],
   "source": [
    "x=iris.Species"
   ]
  },
  {
   "cell_type": "code",
   "execution_count": null,
   "id": "c3b978ef-56b9-4ba3-9004-30ce946d5f70",
   "metadata": {},
   "outputs": [],
   "source": [
    "seplen = iris.SepalLengthCm\n",
    "sepwidth = iris.SepalWidthCm\n",
    "petlen = iris.PetalLengthCm\n",
    "petwidth = iris.PetalWidthCm"
   ]
  },
  {
   "cell_type": "code",
   "execution_count": null,
   "id": "4ed874e6-c41e-469e-8561-19c225bcba00",
   "metadata": {},
   "outputs": [],
   "source": [
    "plt.bar(x,seplen,label=\"Sepal Length\")\n",
    "plt.bar(x,petlen,label=\"Petal Length\")\n",
    "plt.title(\"Length\")\n",
    "plt.legend()"
   ]
  },
  {
   "cell_type": "code",
   "execution_count": null,
   "id": "0f7f7cb2-1f9f-4e8d-a7df-53fe265eb6aa",
   "metadata": {},
   "outputs": [],
   "source": [
    "sns.factorplot('Species',data=iris,kind='count')\n"
   ]
  },
  {
   "cell_type": "code",
   "execution_count": null,
   "id": "ecbfd5c7-246a-421a-97fd-6f49b4b37a1b",
   "metadata": {},
   "outputs": [],
   "source": [
    "cat1 = iris[iris.Species==\"Iris-setosa\"]\n",
    "cat2 = iris[iris.Species==\"Iris-versicolor\"]\n",
    "cat3 = iris[iris.Species==\"Iris-virginica\"]"
   ]
  },
  {
   "cell_type": "code",
   "execution_count": null,
   "id": "6fc92bfe-0881-467a-b9d3-df7c69b4adbc",
   "metadata": {},
   "outputs": [],
   "source": [
    "cat1"
   ]
  },
  {
   "cell_type": "code",
   "execution_count": null,
   "id": "99d0d498-792d-46f5-aa36-27ffce79608a",
   "metadata": {},
   "outputs": [],
   "source": [
    "cat2"
   ]
  },
  {
   "cell_type": "code",
   "execution_count": null,
   "id": "b5f2e85c-0536-4a32-bf4a-9b03fd60e7b4",
   "metadata": {},
   "outputs": [],
   "source": [
    "cat3"
   ]
  },
  {
   "cell_type": "code",
   "execution_count": null,
   "id": "a3e1ea9e-a5ac-4f04-a2ac-5cb7e26d053f",
   "metadata": {},
   "outputs": [],
   "source": [
    "a = cat1[\"Species\"].count()\n",
    "b = cat2[\"Species\"].count()\n",
    "c = cat3[\"Species\"].count()\n",
    "print(a,b,c)"
   ]
  },
  {
   "cell_type": "code",
   "execution_count": null,
   "id": "6fe6ca97-25c4-457c-88a8-8e7f3a09baab",
   "metadata": {},
   "outputs": [],
   "source": [
    "values=[a,b,c]\n",
    "species_labels=[\"Iris-setosa\",\"Iris-versicolor\",\"Iris-virginica\"]\n",
    "plt.pie(values,labels=species_labels,radius=2,autopct='%0.0f%%')"
   ]
  },
  {
   "cell_type": "code",
   "execution_count": null,
   "id": "1b6316e0-0226-4ffb-9ae7-32090efc7a20",
   "metadata": {},
   "outputs": [],
   "source": [
    "plt.boxplot(iris[\"SepalLengthCm\"])\n",
    "plt.boxplot(iris[\"SepalWidthCm\"])"
   ]
  },
  {
   "cell_type": "code",
   "execution_count": null,
   "id": "b57eb1d0-484a-481c-99fd-a6c43fff22dc",
   "metadata": {},
   "outputs": [],
   "source": [
    "sns.boxplot(x='Species', y = 'SepalLengthCm', data=iris)"
   ]
  },
  {
   "cell_type": "code",
   "execution_count": null,
   "id": "2fb1f6e0-1ead-4c83-92b4-afc472996ad8",
   "metadata": {},
   "outputs": [],
   "source": [
    "iris['SepalLengthCm'].hist(bins=70)\n"
   ]
  },
  {
   "cell_type": "code",
   "execution_count": null,
   "id": "35fe4fd2-22e1-4f13-b1ef-91fd23ba252f",
   "metadata": {},
   "outputs": [],
   "source": [
    "sns.pairplot(iris)\n",
    "plt.title('Pairplot for the Data', fontsize = 20)\n",
    "plt.show()"
   ]
  },
  {
   "cell_type": "code",
   "execution_count": null,
   "id": "7037a74a-60a5-412d-9942-b1182c890b47",
   "metadata": {},
   "outputs": [],
   "source": []
  }
 ],
 "metadata": {
  "kernelspec": {
   "display_name": "Python 3",
   "language": "python",
   "name": "python3"
  },
  "language_info": {
   "codemirror_mode": {
    "name": "ipython",
    "version": 3
   },
   "file_extension": ".py",
   "mimetype": "text/x-python",
   "name": "python",
   "nbconvert_exporter": "python",
   "pygments_lexer": "ipython3",
   "version": "3.8.8"
  }
 },
 "nbformat": 4,
 "nbformat_minor": 5
}
