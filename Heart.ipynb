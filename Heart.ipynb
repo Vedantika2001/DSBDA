{
 "cells": [
  {
   "cell_type": "code",
   "execution_count": null,
   "id": "29e543ea-28b8-4119-ab50-f6b939827a88",
   "metadata": {},
   "outputs": [],
   "source": [
    "import pandas as pd\n",
    "import numpy as np\n",
    "import matplotlib.pyplot as plt\n",
    "%matplotlib inline\n",
    "import seaborn as sns"
   ]
  },
  {
   "cell_type": "code",
   "execution_count": null,
   "id": "519ae8a1-49b3-427b-bb3a-dcf0245e0a92",
   "metadata": {},
   "outputs": [],
   "source": [
    "df = pd.read_csv('Heart.csv')"
   ]
  },
  {
   "cell_type": "code",
   "execution_count": null,
   "id": "93a99a70-ef49-48cb-9ea0-5651434e2798",
   "metadata": {},
   "outputs": [],
   "source": [
    "df"
   ]
  },
  {
   "cell_type": "code",
   "execution_count": null,
   "id": "e776a48c-7406-4d59-a2a7-67f0f9a77c90",
   "metadata": {},
   "outputs": [],
   "source": [
    "df.info()"
   ]
  },
  {
   "cell_type": "code",
   "execution_count": null,
   "id": "632ab0ef-dfa1-4ec8-97e8-201a5cb6f218",
   "metadata": {},
   "outputs": [],
   "source": [
    "df.describe()"
   ]
  },
  {
   "cell_type": "code",
   "execution_count": null,
   "id": "0a703bb1-d922-4c82-874d-b9b60b3bfbfc",
   "metadata": {},
   "outputs": [],
   "source": [
    "df.head(12)"
   ]
  },
  {
   "cell_type": "code",
   "execution_count": null,
   "id": "3c055860-42d5-4b20-b497-e78a4302813f",
   "metadata": {},
   "outputs": [],
   "source": [
    "df.tail(10)"
   ]
  },
  {
   "cell_type": "code",
   "execution_count": null,
   "id": "b85e5486-9079-4cd0-b74b-d2b6324cf4dd",
   "metadata": {},
   "outputs": [],
   "source": [
    "df.drop('Unnamed: 0', axis=1)"
   ]
  },
  {
   "cell_type": "code",
   "execution_count": null,
   "id": "934f3fe5-cc77-4a14-89ee-5c0a04ae23e9",
   "metadata": {},
   "outputs": [],
   "source": [
    "df.isnull().sum()"
   ]
  },
  {
   "cell_type": "code",
   "execution_count": null,
   "id": "09f17f2c-4ff0-4d28-8863-0a5aabd115bc",
   "metadata": {},
   "outputs": [],
   "source": [
    "he = df['Ca'].mean()\n",
    "he"
   ]
  },
  {
   "cell_type": "code",
   "execution_count": null,
   "id": "68ba0a22-1a41-40f5-8749-1200772e0121",
   "metadata": {},
   "outputs": [],
   "source": [
    "df['Ca'] = df['Ca'].fillna(he,inplace=False)"
   ]
  },
  {
   "cell_type": "code",
   "execution_count": null,
   "id": "0291ae48-3a98-4151-b518-59cceb095843",
   "metadata": {},
   "outputs": [],
   "source": [
    "df"
   ]
  },
  {
   "cell_type": "code",
   "execution_count": null,
   "id": "89375e46-023c-4e85-93d8-b81f93c4d854",
   "metadata": {},
   "outputs": [],
   "source": [
    "df.isnull().sum()"
   ]
  },
  {
   "cell_type": "code",
   "execution_count": null,
   "id": "0eb114c4-f025-43df-9126-174056875b6a",
   "metadata": {},
   "outputs": [],
   "source": [
    "df = df.dropna(subset=['Thal'])\n",
    "df"
   ]
  },
  {
   "cell_type": "code",
   "execution_count": null,
   "id": "c3439b0b-ab21-4b90-aa39-306de76ef968",
   "metadata": {},
   "outputs": [],
   "source": [
    "df.isnull().sum()"
   ]
  },
  {
   "cell_type": "code",
   "execution_count": null,
   "id": "2a21ee15-fc99-4d01-99ce-23898f900122",
   "metadata": {},
   "outputs": [],
   "source": [
    "from sklearn.linear_model import LogisticRegression\n"
   ]
  },
  {
   "cell_type": "code",
   "execution_count": null,
   "id": "e9ffc133-e217-4ad2-8085-7a890d818ccc",
   "metadata": {},
   "outputs": [],
   "source": [
    "model = LogisticRegression()\n"
   ]
  },
  {
   "cell_type": "code",
   "execution_count": null,
   "id": "4868a6fe-ea54-489d-8dd6-347f72f6ea2d",
   "metadata": {},
   "outputs": [],
   "source": [
    "df.head()\n"
   ]
  },
  {
   "cell_type": "code",
   "execution_count": null,
   "id": "7fabc9ac-7fe1-46ff-9292-d4c2c0dab1cb",
   "metadata": {},
   "outputs": [],
   "source": [
    "x = df[['Age']]\n",
    "y = df[['Fbs']]"
   ]
  },
  {
   "cell_type": "code",
   "execution_count": null,
   "id": "3e56eed8-0ada-4ec2-b880-8809f82675ea",
   "metadata": {},
   "outputs": [],
   "source": [
    "model.fit(x,y)\n"
   ]
  },
  {
   "cell_type": "code",
   "execution_count": null,
   "id": "a5cd44ae-5d07-4c1c-b012-f48b9b18e043",
   "metadata": {},
   "outputs": [],
   "source": [
    "pre=model.predict([[12]])\n",
    "pre"
   ]
  },
  {
   "cell_type": "code",
   "execution_count": null,
   "id": "d1446a2b-6e3a-4ea3-91c9-f66dfe85480f",
   "metadata": {},
   "outputs": [],
   "source": [
    "from sklearn.model_selection import train_test_split"
   ]
  },
  {
   "cell_type": "code",
   "execution_count": null,
   "id": "a1fc1d72-49e0-4f20-ae62-1a735c177813",
   "metadata": {},
   "outputs": [],
   "source": [
    "x_train,x_test,y_train,y_test=train_test_split(x,y,test_size=0.20,random_state=42)\n"
   ]
  },
  {
   "cell_type": "code",
   "execution_count": null,
   "id": "6185fdb3-564f-4a15-83e5-519f79ffafad",
   "metadata": {},
   "outputs": [],
   "source": [
    "newmodel=LogisticRegression()"
   ]
  },
  {
   "cell_type": "code",
   "execution_count": null,
   "id": "463529b1-351f-4876-9853-cfe10c0e8ae3",
   "metadata": {},
   "outputs": [],
   "source": [
    "newmodel.fit(x_train,y_train)"
   ]
  },
  {
   "cell_type": "code",
   "execution_count": null,
   "id": "a329d261-4fd3-424e-ace0-865ea4662f35",
   "metadata": {},
   "outputs": [],
   "source": [
    "x_test"
   ]
  },
  {
   "cell_type": "code",
   "execution_count": null,
   "id": "b37a46be-a6ea-4877-a7d3-7562fab683a4",
   "metadata": {},
   "outputs": [],
   "source": [
    "y_pred=newmodel.predict(x_test)"
   ]
  },
  {
   "cell_type": "code",
   "execution_count": null,
   "id": "8299e513-4354-4e29-840d-e5a7caf8be18",
   "metadata": {},
   "outputs": [],
   "source": [
    "y_pred"
   ]
  },
  {
   "cell_type": "code",
   "execution_count": null,
   "id": "cef4c1bc-0fe7-4985-a788-a0e3499bf48a",
   "metadata": {},
   "outputs": [],
   "source": [
    "from sklearn.metrics import confusion_matrix"
   ]
  },
  {
   "cell_type": "code",
   "execution_count": null,
   "id": "9de61ea1-ae8a-4ed2-9836-e668831bfd40",
   "metadata": {},
   "outputs": [],
   "source": [
    "confusion_matrix(y_test,y_pred)"
   ]
  },
  {
   "cell_type": "code",
   "execution_count": null,
   "id": "4dd4ec68-cc1c-4621-b700-fd32efad287a",
   "metadata": {},
   "outputs": [],
   "source": []
  }
 ],
 "metadata": {
  "kernelspec": {
   "display_name": "Python 3",
   "language": "python",
   "name": "python3"
  },
  "language_info": {
   "codemirror_mode": {
    "name": "ipython",
    "version": 3
   },
   "file_extension": ".py",
   "mimetype": "text/x-python",
   "name": "python",
   "nbconvert_exporter": "python",
   "pygments_lexer": "ipython3",
   "version": "3.8.8"
  }
 },
 "nbformat": 4,
 "nbformat_minor": 5
}
